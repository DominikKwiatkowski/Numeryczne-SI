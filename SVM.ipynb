{
 "cells": [
  {
   "cell_type": "code",
   "execution_count": 393,
   "metadata": {
    "collapsed": true,
    "pycharm": {
     "is_executing": false
    }
   },
   "outputs": [],
   "source": [
    "import numpy as np \n",
    "import pandas as pd\n",
    "from sklearn.linear_model import LinearRegression\n",
    "from sklearn.svm import SVR\n",
    "from sklearn.model_selection import train_test_split"
   ]
  },
  {
   "cell_type": "code",
   "execution_count": 394,
   "outputs": [],
   "source": [
    "def open_file(path: str) -> pd.DataFrame:\n",
    "    return pd.DataFrame(pd.read_csv(path))\n",
    "\n",
    "def trim_data(data_file: pd.DataFrame, field) -> pd.DataFrame:\n",
    "    return data_file[field]"
   ],
   "metadata": {
    "collapsed": false,
    "pycharm": {
     "name": "#%%\n",
     "is_executing": false
    }
   }
  },
  {
   "cell_type": "code",
   "execution_count": 395,
   "outputs": [],
   "source": [
    "    \n",
    "def set_prediction(data_file: pd.DataFrame, shift_period: int):\n",
    "    data_file[\"pred\"] = data_file[\"close\"].shift(-shift_period)\n",
    "    \n",
    "def create_independent_numpy(data_file: pd.DataFrame, shift_period, drop=1):   \n",
    "    data = data_file['pred']\n",
    "    if drop:\n",
    "        return np.array(data.drop(0)[:-shift_period])\n",
    "    else:\n",
    "        return np.array(data[:-shift_period-1])\n",
    "\n",
    "def split_data(x: np.array, y: np.array, proportion: float):\n",
    "    return train_test_split(x, y, test_size=proportion)\n",
    "\n",
    "def prepare_forecast(data_file, shift_period) -> np.array:\n",
    "    data_file = data_file['pred']\n",
    "    print(data_file)\n",
    "    return np.array(data_file.drop(0))[-2*shift_period:-shift_period]"
   ],
   "metadata": {
    "collapsed": false,
    "pycharm": {
     "name": "#%%\n",
     "is_executing": false
    }
   }
  },
  {
   "cell_type": "code",
   "execution_count": 396,
   "outputs": [],
   "source": [
    "def organiser(path: str, shift_period: int):\n",
    "    df = open_file(path)\n",
    "    df = trim_data(df, [\"close\", \"date\"])\n",
    "    set_prediction(df, shift_period)\n",
    "    x = create_independent_numpy(df, shift_period).reshape(-1, 1)\n",
    "    y = create_independent_numpy(df, shift_period, drop=0).reshape(-1, 1)\n",
    "    x_train, x_data, y_train, y_data = split_data(x, y, 0.2)\n",
    "    svr = create_and_train_svm(x_train, y_train)\n",
    "    print(\"Cofidence for svr: \", confidence(svr, [x_data, y_data]))\n",
    "    lr = LinearRegression()\n",
    "    lr.fit(x_train, y_train)\n",
    "    print(\"Cofidence for lr: \", confidence(lr, [x_data, y_data]))\n",
    "    x_forecast = prepare_forecast(df, shift_period).reshape(-1, 1)\n",
    "    lr_prediction = lr.predict(x_forecast)\n",
    "    print(lr_prediction)\n",
    "    svm_prediction = svr.predict(x_forecast)\n",
    "    print(svm_prediction)"
   ],
   "metadata": {
    "collapsed": false,
    "pycharm": {
     "name": "#%%\n",
     "is_executing": false
    }
   }
  },
  {
   "cell_type": "code",
   "execution_count": 397,
   "outputs": [],
   "source": [
    "def create_and_train_svm(x_train, y_train):\n",
    "    svr_rbf = SVR(kernel='rbf', C=1e3, gamma=0.1)\n",
    "    svr_rbf = svr_rbf.fit(x_train, y_train)\n",
    "    return svr_rbf\n",
    "\n",
    "def confidence(model, data):\n",
    "    return model.score(data[0], data[1])"
   ],
   "metadata": {
    "collapsed": false,
    "pycharm": {
     "name": "#%%\n",
     "is_executing": false
    }
   }
  },
  {
   "cell_type": "code",
   "execution_count": 398,
   "outputs": [
    {
     "name": "stderr",
     "text": [
      "/home/kuba/anaconda3/envs/Gradient/lib/python3.7/site-packages/sklearn/utils/validation.py:760: DataConversionWarning: A column-vector y was passed when a 1d array was expected. Please change the shape of y to (n_samples, ), for example using ravel().\n",
      "  y = column_or_1d(y, warn=True)\n"
     ],
     "output_type": "stream"
    },
    {
     "name": "stdout",
     "text": [
      "Cofidence for svr:  0.998245521841267\n",
      "Cofidence for lr:  0.9982111093260644\n",
      "0       7.375\n",
      "1       7.375\n",
      "2       7.375\n",
      "3       7.250\n",
      "4       7.250\n",
      "        ...  \n",
      "5027      NaN\n",
      "5028      NaN\n",
      "5029      NaN\n",
      "5030      NaN\n",
      "5031      NaN\n",
      "Name: pred, Length: 5032, dtype: float64\n",
      "[[0.75841633]\n",
      " [0.73993644]\n",
      " [0.73094622]\n",
      " [0.7473284 ]\n",
      " [0.76730666]]\n",
      "[0.74990205 0.73311946 0.72500618 0.73981573 0.7580248 ]\n"
     ],
     "output_type": "stream"
    }
   ],
   "source": [
    "\n",
    "organiser(\"data/APEX.csv\", 5)"
   ],
   "metadata": {
    "collapsed": false,
    "pycharm": {
     "name": "#%%\n",
     "is_executing": false
    }
   }
  }
 ],
 "metadata": {
  "kernelspec": {
   "display_name": "Python 3",
   "language": "python",
   "name": "python3"
  },
  "language_info": {
   "codemirror_mode": {
    "name": "ipython",
    "version": 2
   },
   "file_extension": ".py",
   "mimetype": "text/x-python",
   "name": "python",
   "nbconvert_exporter": "python",
   "pygments_lexer": "ipython2",
   "version": "2.7.6"
  },
  "pycharm": {
   "stem_cell": {
    "cell_type": "raw",
    "source": [],
    "metadata": {
     "collapsed": false
    }
   }
  }
 },
 "nbformat": 4,
 "nbformat_minor": 0
}